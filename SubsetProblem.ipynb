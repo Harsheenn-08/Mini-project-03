{
  "nbformat": 4,
  "nbformat_minor": 0,
  "metadata": {
    "colab": {
      "provenance": []
    },
    "kernelspec": {
      "name": "python3",
      "display_name": "Python 3"
    },
    "language_info": {
      "name": "python"
    }
  },
  "cells": [
    {
      "cell_type": "markdown",
      "source": [
        "#**Subset selection problem**\n",
        "**1. Problem statement**\n",
        "\n",
        "Find all the subsets from a set of numbers whose sum\n",
        "is zero.\n",
        "\n",
        "\n",
        "**Costraint: Subset size must be 5**\n",
        "\n",
        "set = {-12,-3,-6,7,2,-2,6,3,9,-7,-5,-8,1,11,-9,-4}"
      ],
      "metadata": {
        "id": "z7wJ4jbSY60m"
      }
    },
    {
      "cell_type": "code",
      "source": [
        "import random as r\n",
        "Set=set([-12,-3,-6,7,2,-2,6,3,9,-7,-5,-8,1,11,-9,-4])\n",
        "setsize=5\n",
        "Result=set()\n",
        "iterations=1000\n",
        "\n",
        "for i in range(iterations):\n",
        "  # Convert the set to a list before sampling\n",
        "  chromosome = r.sample(list(Set),setsize)\n",
        "  if sum(chromosome)==0:\n",
        "    Result.add(tuple(chromosome))\n",
        "\n",
        "for r_item in Result:\n",
        "  print(r_item)\n",
        "print(\"\\nTotal\",len(Result))"
      ],
      "metadata": {
        "colab": {
          "base_uri": "https://localhost:8080/"
        },
        "id": "VkK4V4DtDkvZ",
        "outputId": "ce5c1587-efb0-44b9-ac21-73b39fc9417c"
      },
      "execution_count": null,
      "outputs": [
        {
          "output_type": "stream",
          "name": "stdout",
          "text": [
            "(-4, 3, -2, -3, 6)\n",
            "(3, -7, 7, -5, 2)\n",
            "(-12, -8, 7, 11, 2)\n",
            "(9, 6, -2, -9, -4)\n",
            "(7, 2, -3, -7, 1)\n",
            "(-7, 7, -4, 9, -5)\n",
            "(7, -12, 11, 2, -8)\n",
            "(1, -6, 7, -5, 3)\n",
            "(2, 11, -4, -7, -2)\n",
            "(-4, 6, 9, -2, -9)\n",
            "(-3, 3, -8, 1, 7)\n",
            "(2, -12, -3, 6, 7)\n",
            "(7, 1, -4, 3, -7)\n",
            "(-5, 7, 1, 6, -9)\n",
            "(-2, -12, 11, 2, 1)\n",
            "(6, -6, 9, -12, 3)\n",
            "(2, -5, 3, 6, -6)\n",
            "(1, 2, 9, -9, -3)\n",
            "(6, 2, -6, -3, 1)\n",
            "(11, -8, 6, -7, -2)\n",
            "(2, -2, -4, -7, 11)\n",
            "(-4, -2, 7, -7, 6)\n",
            "(2, -6, 1, -8, 11)\n",
            "(-6, 3, -5, 1, 7)\n",
            "(-9, -7, 11, -2, 7)\n",
            "\n",
            "Total 25\n"
          ]
        }
      ]
    },
    {
      "cell_type": "markdown",
      "source": [
        "#**Complete program with sorting**"
      ],
      "metadata": {
        "id": "LlhI4zBzaJrl"
      }
    },
    {
      "cell_type": "code",
      "execution_count": null,
      "metadata": {
        "colab": {
          "base_uri": "https://localhost:8080/"
        },
        "id": "o_J633D3AmBv",
        "outputId": "0bb28858-f67b-4e35-bd01-dd652d3e5283"
      },
      "outputs": [
        {
          "output_type": "stream",
          "name": "stdout",
          "text": [
            "(-12, -3, 2, 6, 7)\n",
            "(-9, -3, 2, 3, 7)\n",
            "(-9, -8, 2, 6, 9)\n",
            "(-7, -4, -3, 3, 11)\n",
            "(-7, -3, 1, 3, 6)\n",
            "(-9, -2, 2, 3, 6)\n",
            "(-7, -6, -2, 6, 9)\n",
            "(-6, -4, 1, 3, 6)\n",
            "(-7, -5, -2, 3, 11)\n",
            "(-7, -2, 1, 2, 6)\n",
            "(-5, -3, -2, 3, 7)\n",
            "(-8, -6, -3, 6, 11)\n",
            "(-7, -4, -2, 2, 11)\n",
            "(-8, -2, 1, 3, 6)\n",
            "(-6, -3, 1, 2, 6)\n",
            "(-8, -4, 1, 2, 9)\n",
            "(-9, -6, -5, 9, 11)\n",
            "(-8, -4, 2, 3, 7)\n",
            "(-8, -5, 1, 3, 9)\n",
            "(-12, -5, 2, 6, 9)\n",
            "(-6, -5, -4, 6, 9)\n",
            "(-9, -5, 1, 6, 7)\n",
            "(-9, -6, -2, 6, 11)\n",
            "(-6, -3, -2, 2, 9)\n",
            "(-8, -7, -2, 6, 11)\n",
            "\n",
            "Total 25\n"
          ]
        }
      ],
      "source": [
        "import random as r\n",
        "Set=set([-12,-3,-6,7,2,-2,6,3,9,-7,-5,-8,1,11,-9,-4])\n",
        "setsize=5\n",
        "Result=set()\n",
        "iterations=1000\n",
        "\n",
        "for i in range(iterations):\n",
        "  # Convert the set to a list before sampling\n",
        "  chromosome = r.sample(list(Set),setsize)\n",
        "  chromosome.sort()\n",
        "  if sum(chromosome)==0:\n",
        "    Result.add(tuple(chromosome))\n",
        "\n",
        "for r_item in Result:\n",
        "  print(r_item)\n",
        "print(\"\\nTotal\",len(Result))"
      ]
    },
    {
      "cell_type": "markdown",
      "source": [
        "#**Constraint : Subset size must be 3 to 6**"
      ],
      "metadata": {
        "id": "g87XibLiaO9E"
      }
    },
    {
      "cell_type": "code",
      "source": [
        "import random as r\n",
        "Set=set([-12,-3,-6,7,2,-2,6,3,9,-7,-5,-8,1,11,-9,-4])\n",
        "lb=3\n",
        "ub=6\n",
        "Result=set()\n",
        "iterations=1000\n",
        "\n",
        "for i in range(iterations):\n",
        "  setsize=r.randint(lb,ub)\n",
        "  # Convert the set to a list before sampling\n",
        "  chromosome = r.sample(list(Set),setsize)\n",
        "  chromosome.sort()\n",
        "  if sum(chromosome)==0:\n",
        "    Result.add(tuple(chromosome))\n",
        "\n",
        "for r_item in Result:\n",
        "  print(r_item)\n",
        "print(\"\\nTotal\",len(Result))"
      ],
      "metadata": {
        "colab": {
          "base_uri": "https://localhost:8080/"
        },
        "id": "hSx7fJqrGUYh",
        "outputId": "11b5317e-d126-4c25-82fc-f1ca150acead"
      },
      "execution_count": null,
      "outputs": [
        {
          "output_type": "stream",
          "name": "stdout",
          "text": [
            "(-12, -4, 1, 6, 9)\n",
            "(-6, -5, -4, -2, 6, 11)\n",
            "(-12, -2, 3, 11)\n",
            "(-7, -6, -2, 6, 9)\n",
            "(-7, -2, 9)\n",
            "(-4, -3, -2, 9)\n",
            "(-9, -4, 2, 11)\n",
            "(-7, -4, 11)\n",
            "(-6, -5, 2, 3, 6)\n",
            "(-9, -2, 11)\n",
            "(-7, -4, -3, -2, 7, 9)\n",
            "(-8, -5, -4, 1, 7, 9)\n",
            "(-8, -5, 2, 11)\n",
            "(-9, -7, -2, 1, 6, 11)\n",
            "(-9, -3, -2, 1, 2, 11)\n",
            "(-5, -4, 9)\n",
            "(-8, -3, 11)\n",
            "(-7, -4, -3, 1, 2, 11)\n",
            "(-5, -3, -2, 1, 2, 7)\n",
            "(-3, 1, 2)\n",
            "\n",
            "Total 20\n"
          ]
        }
      ]
    }
  ]
}